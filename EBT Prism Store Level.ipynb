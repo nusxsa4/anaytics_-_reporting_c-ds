{
 "cells": [
  {
   "cell_type": "code",
   "execution_count": 0,
   "metadata": {
    "application/vnd.databricks.v1+cell": {
     "cellMetadata": {
      "byteLimit": 2048000,
      "implicitDf": true,
      "rowLimit": 10000
     },
     "inputWidgets": {},
     "nuid": "54c95208-5ae6-429d-a208-fb181814724f",
     "showTitle": false,
     "tableResultSettingsMap": {},
     "title": ""
    }
   },
   "outputs": [],
   "source": [
    "%sql\n",
    "WITH opco_mapping AS (\n",
    "  SELECT \n",
    "    a.*,\n",
    "    TRIM(d.opco_name) AS opco_name_trimmed,\n",
    "    CASE \n",
    "      WHEN TRIM(d.opco_name) IN ('Giant-Carlisle', 'Martins') THEN 1002\n",
    "      WHEN TRIM(d.opco_name) = 'Stop & Shop' THEN 1001\n",
    "      WHEN TRIM(d.opco_name) = 'Giant-Landover' THEN 1000\n",
    "      WHEN TRIM(d.opco_name) = 'Food Lion' THEN 1003\n",
    "      ELSE 9999 \n",
    "    END AS Banner_ID_1,\n",
    "    CASE \n",
    "      WHEN TRIM(d.opco_name) IN ('Giant-Carlisle', 'Martins') THEN 'TGC'\n",
    "      WHEN TRIM(d.opco_name) = 'Stop & Shop' THEN 'SS'\n",
    "      WHEN TRIM(d.opco_name) = 'Giant-Landover' THEN 'GF'\n",
    "      WHEN TRIM(d.opco_name) = 'Food Lion' THEN 'FL'\n",
    "      ELSE '' \n",
    "    END AS Banner1,\n",
    "    CASE \n",
    "      WHEN TRIM(d.opco_name) = 'Giant-Carlisle' THEN 'TGC_Giant'\n",
    "      WHEN TRIM(d.opco_name) = 'Martins' THEN 'TGC_Martins'\n",
    "      WHEN TRIM(d.opco_name) = 'Stop & Shop' THEN 'SS'\n",
    "      WHEN TRIM(d.opco_name) = 'Giant-Landover' THEN 'GF'\n",
    "      WHEN TRIM(d.opco_name) = 'Food Lion' THEN 'FL'\n",
    "      ELSE '' \n",
    "    END AS Banner2,\n",
    "    CASE \n",
    "      WHEN a.dlv_meth_cd = 'P' THEN 'Pickup'\n",
    "      ELSE 'Delivery' \n",
    "    END AS Channel,\n",
    "    CASE \n",
    "      WHEN a.ord_seq_num = 1 THEN 'N'\n",
    "      ELSE 'E' \n",
    "    END AS Cust_Exp,\n",
    "    IFNULL(b.store_nbr, INT(e.stor_nbr_cd)) store_nbr,\n",
    "    a.pup_id,\n",
    "    a.stor_id\n",
    "  FROM merchandising.pos.rdt_ord_sum_cdm a\n",
    "  JOIN merchandising.pos.rdt_ecom_xref_cdm d ON TRIM(a.stor_id) = d.stor_id\n",
    "  left join (select distinct pup_id, stor_id, INT(ahld_stor_nbr_cd) store_nbr from managed_assets.location.cit_pup_ctl_sdm where ahld_stor_nbr_cd != 'NULL') b on a.pup_id = b.pup_id and a.stor_id = b.stor_id\n",
    "  left join managed_assets.location.cit_zone_ctl_sdm e on a.stor_id = trim(e.stor_id)\n",
    "  WHERE a.dlv_dt_src >= '2021-01-03' AND a.it_dlv_qy IS NOT NULL\n",
    "),\n",
    "snap_data AS (\n",
    "  SELECT \n",
    "    ord_id, \n",
    "    COUNT(DISTINCT it_cd) AS ReasonCode_Count, \n",
    "    SUM(pr_qy) AS SNAP_Dollars\n",
    "  FROM  merchandising.pos.art_ord_dtl_cdm\n",
    "  WHERE it_cd IN ('N-560', 'N-561') AND arc_ld_dt_src > '2021-01-01'\n",
    "  GROUP BY ord_id\n",
    ")\n",
    "SELECT \n",
    "  Banner_ID_1 as Banner_ID,\n",
    "  Banner1,\n",
    "  Banner2,\n",
    "  'Prism' AS Platform,\n",
    "  'Prism' AS Site,\n",
    "  Channel,\n",
    "  dlv_dt_src AS Dlvry_Date,\n",
    "  Cust_Exp,\n",
    "  store_nbr,\n",
    "  pup_id,\n",
    "  stor_id,\n",
    "  COUNT(DISTINCT a.ord_id) AS Total_Orders,\n",
    "  ROUND(SUM(a.it_dlv_qy), 2) AS Total_Sales,\n",
    "  COUNT(DISTINCT b.ord_id) AS SNAP_Orders,\n",
    "  ROUND(SUM(CASE WHEN b.ord_id IS NULL THEN 0 ELSE a.it_dlv_qy END), 2) AS SNAP_Basket_Sales,\n",
    "  ABS(ROUND(SUM(CASE WHEN b.ord_id IS NULL THEN 0 ELSE b.SNAP_Dollars END), 2)) AS SNAP_Dollars\n",
    "FROM opco_mapping a\n",
    "LEFT JOIN snap_data b ON a.ord_id = b.ord_id\n",
    "where store_nbr IS NULL\n",
    "GROUP BY \n",
    " Banner_ID_1,\n",
    "  Banner1,\n",
    "  Banner2,\n",
    "  Channel,\n",
    "  dlv_dt_src,\n",
    "  Cust_Exp,\n",
    "  store_nbr,\n",
    "  pup_id,\n",
    "  stor_id"
   ]
  },
  {
   "cell_type": "code",
   "execution_count": 0,
   "metadata": {
    "application/vnd.databricks.v1+cell": {
     "cellMetadata": {
      "byteLimit": 2048000,
      "rowLimit": 10000
     },
     "inputWidgets": {},
     "nuid": "f719a190-24db-43a9-a6ee-76f4b732b96c",
     "showTitle": false,
     "tableResultSettingsMap": {},
     "title": ""
    }
   },
   "outputs": [],
   "source": [
    "WITH opco_mapping AS (\n",
    "  SELECT \n",
    "    a.*,\n",
    "    TRIM(d.opco_name) AS opco_name_trimmed,\n",
    "    CASE \n",
    "      WHEN TRIM(d.opco_name) IN ('Giant-Carlisle', 'Martins') THEN 1002\n",
    "      WHEN TRIM(d.opco_name) = 'Stop & Shop' THEN 1001\n",
    "      WHEN TRIM(d.opco_name) = 'Giant-Landover' THEN 1000\n",
    "      WHEN TRIM(d.opco_name) = 'Food Lion' THEN 1003\n",
    "      ELSE 9999 \n",
    "    END AS Banner_ID_1,\n",
    "    CASE \n",
    "      WHEN TRIM(d.opco_name) IN ('Giant-Carlisle', 'Martins') THEN 'TGC'\n",
    "      WHEN TRIM(d.opco_name) = 'Stop & Shop' THEN 'SS'\n",
    "      WHEN TRIM(d.opco_name) = 'Giant-Landover' THEN 'GF'\n",
    "      WHEN TRIM(d.opco_name) = 'Food Lion' THEN 'FL'\n",
    "      ELSE '' \n",
    "    END AS Banner1,\n",
    "    CASE \n",
    "      WHEN TRIM(d.opco_name) = 'Giant-Carlisle' THEN 'TGC_Giant'\n",
    "      WHEN TRIM(d.opco_name) = 'Martins' THEN 'TGC_Martins'\n",
    "      WHEN TRIM(d.opco_name) = 'Stop & Shop' THEN 'SS'\n",
    "      WHEN TRIM(d.opco_name) = 'Giant-Landover' THEN 'GF'\n",
    "      WHEN TRIM(d.opco_name) = 'Food Lion' THEN 'FL'\n",
    "      ELSE '' \n",
    "    END AS Banner2,\n",
    "    CASE \n",
    "      WHEN a.dlv_meth_cd = 'P' THEN 'Pickup'\n",
    "      ELSE 'Delivery' \n",
    "    END AS Channel,\n",
    "    CASE \n",
    "      WHEN a.ord_seq_num = 1 THEN 'N'\n",
    "      ELSE 'E' \n",
    "    END AS Cust_Exp,\n",
    "    IFNULL(b.store_nbr, INT(e.stor_nbr_cd)) store_nbr,\n",
    "    a.pup_id,\n",
    "    a.stor_id\n",
    "  FROM merchandising.pos.rdt_ord_sum_cdm a\n",
    "  JOIN merchandising.pos.rdt_ecom_xref_cdm d ON TRIM(a.stor_id) = d.stor_id\n",
    "  left join (select distinct pup_id, stor_id, INT(ahld_stor_nbr_cd) store_nbr from managed_assets.location.cit_pup_ctl_sdm where ahld_stor_nbr_cd != 'NULL') b on a.pup_id = b.pup_id and a.stor_id = b.stor_id\n",
    "  left join managed_assets.location.cit_zone_ctl_sdm e on a.stor_id = trim(e.stor_id)\n",
    "  WHERE a.dlv_dt_src >= '2021-01-03' AND a.it_dlv_qy IS NOT NULL\n",
    ")\n",
    "SELECT * FROM opco_mapping where store_nbr is null"
   ]
  },
  {
   "cell_type": "code",
   "execution_count": 0,
   "metadata": {
    "application/vnd.databricks.v1+cell": {
     "cellMetadata": {
      "byteLimit": 2048000,
      "rowLimit": 10000
     },
     "inputWidgets": {},
     "nuid": "d5b929e7-774a-458a-b81f-9c2b54bf00cb",
     "showTitle": false,
     "tableResultSettingsMap": {},
     "title": ""
    }
   },
   "outputs": [],
   "source": [
    "%sql\n",
    "select * from managed_assets.location.cit_pup_ctl_sdm\n",
    "where pup_id = 10117"
   ]
  }
 ],
 "metadata": {
  "application/vnd.databricks.v1+notebook": {
   "computePreferences": null,
   "dashboards": [],
   "environmentMetadata": {
    "base_environment": "",
    "environment_version": "2"
   },
   "inputWidgetPreferences": null,
   "language": "sql",
   "notebookMetadata": {
    "mostRecentlyExecutedCommandWithImplicitDF": {
     "commandId": -1,
     "dataframes": [
      "_sqldf"
     ]
    },
    "pythonIndentUnit": 2
   },
   "notebookName": "EBT Prism Store Level",
   "widgets": {}
  },
  "language_info": {
   "name": "sql"
  }
 },
 "nbformat": 4,
 "nbformat_minor": 0
}
