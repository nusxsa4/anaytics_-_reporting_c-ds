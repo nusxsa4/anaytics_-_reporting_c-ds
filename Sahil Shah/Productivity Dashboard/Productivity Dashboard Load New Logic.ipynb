{
 "cells": [
  {
   "cell_type": "code",
   "execution_count": 0,
   "metadata": {
    "application/vnd.databricks.v1+cell": {
     "cellMetadata": {
      "byteLimit": 2048000,
      "implicitDf": true,
      "rowLimit": 10000
     },
     "inputWidgets": {},
     "nuid": "e2677a93-30ec-44b4-95d5-2399ff9580aa",
     "showTitle": false,
     "tableResultSettingsMap": {},
     "title": ""
    }
   },
   "outputs": [],
   "source": [
    "%sql\n",
    "create or replace temp view item_count as (\n",
    "select b.week_end_dt\n",
    "        ,trim(a.stor_id) stor_id\n",
    "        ,case when trim(a.stor_id) like 'GM%' then 'PFS' else 'CF' end as type\n",
    "        ,sum(case when a.whse_it_dlv_qy>0 then a.tot_each_qy-a.tot_orig_oos_inv_qy-a.tot_orig_oos_pick_qy+a.tot_sub_ship_qy else 0 end) items_ship\n",
    "        ,count(distinct case when a.whse_it_dlv_qy>0 then a.ord_id else null end) ords_ship\n",
    "from merchandising.pos.rdt_ord_sum_cdm a\n",
    "join merchandising.pos.rdt_tm_look_sdm b on a.dlv_dt_src=b.the_date\n",
    "where it_dmnd_qy>0\n",
    "and week_end_dt >= '2022-01-01' and a.dlv_dt_src < date_add(current_date, -pmod(dayofweek(current_date) - 1, 7))\n",
    "group by 1,2,3)"
   ]
  },
  {
   "cell_type": "code",
   "execution_count": 0,
   "metadata": {
    "application/vnd.databricks.v1+cell": {
     "cellMetadata": {
      "byteLimit": 2048000,
      "implicitDf": true,
      "rowLimit": 10000
     },
     "inputWidgets": {},
     "nuid": "ac955e15-06fb-489f-8aae-34ef2498abf2",
     "showTitle": true,
     "tableResultSettingsMap": {},
     "title": "PFS - OLD"
    }
   },
   "outputs": [],
   "source": [
    "%sql\n",
    "create or replace temp view pfs_pickrate as (\n",
    "with location as (select distinct StoreId, \n",
    "case when P3StoreId is null or P3StoreId = '' then StoreId else P3StoreId end as \n",
    "clean_store, \n",
    "case when StoreId like 'GM%' then 'PFS' else 'CF' end as type \n",
    "from managed_assets.location.storepickuppointmaster_cdm)\n",
    "select b.storeId stor_id,\n",
    "       c.week_end_dt,\n",
    "       b.type,\n",
    "       sum(a.cnt1_qy) unitpick,\n",
    "       sum(timestampdiff(second, a.beg_dt_tm, a.end_dt_tm)) pickingseconds \n",
    "from merchandising.pos.emp_perf_ahold_sdm a left join location b on a.dc_id = b.clean_store\n",
    "left join merchandising.pos.rdt_tm_look_sdm c on date(a.beg_dt_tm) = c.the_date\n",
    "where a.dc_id != 'GKK' and a.task_id = 'P' and a.arg2_cd not in ('R','repick')\n",
    "group by all)"
   ]
  },
  {
   "cell_type": "code",
   "execution_count": 0,
   "metadata": {
    "application/vnd.databricks.v1+cell": {
     "cellMetadata": {
      "byteLimit": 2048000,
      "implicitDf": true,
      "rowLimit": 10000
     },
     "inputWidgets": {},
     "nuid": "584e12ce-e456-4f41-b7e9-6153945eb74f",
     "showTitle": false,
     "tableResultSettingsMap": {},
     "title": ""
    }
   },
   "outputs": [],
   "source": [
    "%sql\n",
    "CREATE OR REPLACE TEMPORARY VIEW gkk AS (\n",
    "select dc_id as stor_id\n",
    ", week_end_Dt\n",
    ",'CF'as type\n",
    ", units_pck unitpick\n",
    ", shftsecs pickingseconds\n",
    "from (select a.week_end_Dt\n",
    "        , a.dc_id\n",
    "        , (a.shftsecs+b.shftsecs) as shftsecs\n",
    "        , (a.unitpick + b.units_picked) units_pck\n",
    "        , a.unitpick as unitspickm\n",
    "        , b.units_picked as unitspicka\n",
    "from (select dc_id\n",
    "        , week_end_dt\n",
    "        , unitpick\n",
    "        , shftsecs\n",
    "from (  select dc_id\n",
    "                ,week_end_dt\n",
    "                ,sum(units_pck) unitpick\n",
    "                ,sum(shft_secs) shftsecs\n",
    "        from (  select distinct x1.dc_id\n",
    "                        ,x1.ee_id\n",
    "                        ,date(beg_dt_tm) as actv_dt\n",
    "                        -- ,x2.pick_desc_tx\n",
    "                        ,count(perf_id) picks\n",
    "                        ,sum(cnt1_qy) units_pck\n",
    "                        ,CAST(SUM(unix_timestamp(end_dt_tm) - unix_timestamp(beg_dt_tm)) AS INT) AS shft_secs\n",
    "                from (  select distinct perf_id\n",
    "                                , ee_id\n",
    "                                ,dc_id\n",
    "                                ,task_id\n",
    "                                ,arg1_cd\n",
    "                                ,arg2_cd\n",
    "                                ,cnt1_qy\n",
    "                                ,cnt2_qy\n",
    "                                ,dlv_dt\n",
    "                                ,beg_dt_tm\n",
    "                                ,end_dt_tm\n",
    "                                ,rec_stat_cd,xfer_cd \n",
    "                        from merchandising.pos.p3_amt_emp_perf_sdm \n",
    "                        where task_id = 'J' ) x1\n",
    "                -- left join p3_daily_curr:cmt_area_ctl x2 on x1.dc_id = x2.dc_id and x1.arg2_Cd = x2.pick_Area_cd\n",
    "                where x1.dc_id = 'GKK'\n",
    "                group by 1,2,3) a \n",
    "        inner join merchandising.pos.rdt_tm_look_sdm b on a.actv_Dt = b.the_Date\n",
    "        where b.week_end_dt >= '2022-01-01'\n",
    "        group by 1,2)final_pick \n",
    "group by 1,2,3,4) a\n",
    "join (select week_end_dt\n",
    "        , dc_id\n",
    "        , sum(unitspicked) units_picked\n",
    "        , round(sum(seconds),2) shftsecs\n",
    "        from (\n",
    "                select week_end_dt\n",
    "                , dc_id\n",
    "                , sum(TRANSQTY) unitspicked\n",
    "                , SUM(ABS(CAST(unix_timestamp(endtdttm) - unix_timestamp(startdttm) AS BIGINT))) AS seconds\n",
    "                -- , sum(ABS(((endtdttm - startdttm)::INTERVAL second(8) to second)::CHAR(10)::INT8)) seconds\n",
    "                from (\n",
    "                        select week_end_dt \n",
    "                        , dc_id\n",
    "                        , m1.updated_by\n",
    "                        , m1.To_TU\n",
    "                        , m1.autostore_grid\n",
    "                        , sum(m1.TO_QUANTITY) TOQTYTOTAL\n",
    "                        , sum(m1.TRANSACTION_COUNT) TRANSCOUNT\n",
    "                        , sum(m1.Transaction_Quantity) TRANSQTY\n",
    "                        , min(m1.CREATE_DATE) startDtTm \n",
    "                        , max(m1.CREATE_DATE) EndtDtTm\n",
    "                        , SUM(ABS(CAST((unix_timestamp(m1.EndDateTime) - unix_timestamp(m1.create_date)) / 60 AS BIGINT))) AS Minutes\n",
    "                        from (\n",
    "                                select t.week_end_dt\n",
    "                                , x1.updated_by\n",
    "                                , x1.from_location as autostore_grid\n",
    "                                , case when x1.WarehouseID = 'GKK' then 'GKK' else 'GKK' end as dc_id\n",
    "                                , x1.from_workstation\n",
    "                                , x1.TO_QUANTITY\n",
    "                                , x1.TRANSACTION_COUNT\n",
    "                                , x1.Transaction_Quantity\n",
    "                                , x1.To_TU\n",
    "                                , x1.CREATE_DATE\n",
    "                                , lead(x1.CREATE_DATE) over (partition by date(x1.CREATE_DATE),x1.From_Workstation, x1.UPDATED_BY order by x1.CREATE_DATE) EndDateTime\n",
    "                                from  merchandising.pos.centralfulfillmenttransactions_cdm x1\n",
    "                                join merchandising.pos.rdt_tm_look_sdm t on date(x1.CREATE_DATE) = t.the_date\n",
    "                                where t.week_end_dt >= '2022-01-01'\n",
    "                                and x1.transaction_type = 'PICK'\n",
    "                                ) M1\n",
    "                                group by 1,2,3,4,5) M2\n",
    "                group by 1,2) M3\n",
    "group by 1,2) b on a.dc_id = b.dc_id and a.week_end_Dt = b.week_end_Dt))"
   ]
  },
  {
   "cell_type": "code",
   "execution_count": 0,
   "metadata": {
    "application/vnd.databricks.v1+cell": {
     "cellMetadata": {
      "byteLimit": 2048000,
      "implicitDf": true,
      "rowLimit": 10000
     },
     "inputWidgets": {},
     "nuid": "056b260b-2622-44e4-8cad-9c42916ae479",
     "showTitle": false,
     "tableResultSettingsMap": {},
     "title": ""
    }
   },
   "outputs": [],
   "source": [
    "%sql\n",
    "create or replace temp view cf_pickrate_2 as (\n",
    "SELECT dc_id as stor_id\n",
    "        , date(week_end_dt) week_end_dt\n",
    "        ,'CF' as type\n",
    "        , unitpick\n",
    "        , shftsecs as pickingseconds\n",
    "        FROM (  select dc_id\n",
    "                ,week_end_Dt\n",
    "                ,sum(units_pck) unitpick\n",
    "                ,sum(shft_secs) shftsecs \n",
    "        from (  select distinct x1.dc_id\n",
    "                        ,x1.ee_id\n",
    "                        ,date(beg_dt_tm) as actv_dt\n",
    "                        -- ,x2.pick_desc_tx\n",
    "                        ,count(perf_id) picks\n",
    "                        ,sum(cnt1_qy) units_pck\n",
    "                        ,CAST(SUM(unix_timestamp(end_dt_tm) - unix_timestamp(beg_dt_tm)) AS INT) AS shft_secs\n",
    "                from (  select distinct perf_id\n",
    "                                ,ee_id\n",
    "                                ,dc_id\n",
    "                                ,task_id\n",
    "                                ,arg1_cd\n",
    "                                ,arg2_cd\n",
    "                                ,cnt1_qy\n",
    "                                ,cnt2_qy\n",
    "                                ,dlv_dt\n",
    "                                ,beg_dt_tm\n",
    "                                ,end_dt_tm\n",
    "                                ,rec_stat_cd,xfer_cd \n",
    "                        from merchandising.pos.p3_amt_emp_perf_sdm\n",
    "                        where task_id = 'P' ) x1  \n",
    "                where x1.dc_id like 'G%' and x1.dc_id not in ('GKK')\n",
    "                group by 1,2,3) a \n",
    "        inner join merchandising.pos.rdt_tm_look_sdm b on a.actv_Dt = b.the_Date \n",
    "        where week_end_dt >= '2022-01-01'\n",
    "        group by 1,2) FINAL_PICK \n",
    "group by 1,2,3,4,5)"
   ]
  },
  {
   "cell_type": "code",
   "execution_count": 0,
   "metadata": {
    "application/vnd.databricks.v1+cell": {
     "cellMetadata": {
      "byteLimit": 2048000,
      "implicitDf": true,
      "rowLimit": 10000
     },
     "inputWidgets": {},
     "nuid": "18ac7700-4911-43e2-af5e-6a5b8b4624fe",
     "showTitle": false,
     "tableResultSettingsMap": {},
     "title": ""
    }
   },
   "outputs": [],
   "source": [
    "%sql\n",
    "create or replace temp view 2022_data as (\n",
    "  with union_table as (select dc_id, \n",
    "                           task_id,\n",
    "                           arg2_cd, \n",
    "                           beg_dt_tm, end_dt_tm,\n",
    "                           cnt1_qy\n",
    " from merchandising.pos.emp_perf_ahold_sdm union select dc_id, \n",
    "                           task_id,\n",
    "                           arg2_cd, \n",
    "                           beg_dt_tm, end_dt_tm, cnt1_qy from merchandising.pos.p3_amt_emp_perf_sdm),\n",
    "location as (select distinct StoreId, \n",
    "case when P3StoreId is null or P3StoreId = '' then StoreId else P3StoreId end as \n",
    "clean_store, \n",
    "case when StoreId like 'GM%' then 'PFS' else 'CF' end as type \n",
    "from managed_assets.location.storepickuppointmaster_cdm)\n",
    "select b.storeId stor_id,\n",
    "       c.week_end_dt,\n",
    "       b.type,\n",
    "       sum(a.cnt1_qy) unitpick,\n",
    "       sum(timestampdiff(second, a.beg_dt_tm, a.end_dt_tm)) pickingseconds \n",
    "from union_table a left join location b on a.dc_id = b.clean_store\n",
    "left join merchandising.pos.rdt_tm_look_sdm c on date(a.beg_dt_tm) = c.the_date\n",
    "where a.dc_id != 'GKK' and a.task_id = 'P' and a.arg2_cd not in ('R','repick') and c.week_end_dt <= '2022-12-31'\n",
    "group by all\n",
    ")"
   ]
  },
  {
   "cell_type": "code",
   "execution_count": 0,
   "metadata": {
    "application/vnd.databricks.v1+cell": {
     "cellMetadata": {
      "byteLimit": 2048000,
      "implicitDf": true,
      "rowLimit": 10000
     },
     "inputWidgets": {},
     "nuid": "c66f6c6f-d12d-4fb1-8f16-bf3142acd689",
     "showTitle": false,
     "tableResultSettingsMap": {},
     "title": ""
    }
   },
   "outputs": [],
   "source": [
    "%sql\n",
    "create or replace temp view all_pickrate as (\n",
    "  select stor_id,\n",
    "  week_end_dt,\n",
    "  type,\n",
    "  sum(unitpick) unitpick,\n",
    "  sum(pickingseconds) pickingseconds from \n",
    "  (select * from pfs_pickrate\n",
    "  union\n",
    "  select * from cf_pickrate_2\n",
    "  union\n",
    "  select * from gkk)\n",
    "  group by all\n",
    ")"
   ]
  },
  {
   "cell_type": "code",
   "execution_count": 0,
   "metadata": {
    "application/vnd.databricks.v1+cell": {
     "cellMetadata": {
      "byteLimit": 2048000,
      "implicitDf": true,
      "rowLimit": 10000
     },
     "inputWidgets": {},
     "nuid": "9609a36e-7070-47e5-804f-2c322286d0d2",
     "showTitle": false,
     "tableResultSettingsMap": {},
     "title": ""
    }
   },
   "outputs": [],
   "source": [
    "%sql\n",
    "create or replace temp view pickrate as (\n",
    "with location as (select distinct StoreId, \n",
    "case when P3StoreId is null or P3StoreId = '' then StoreId else P3StoreId end as \n",
    "clean_store, \n",
    "case when StoreId like 'GM%' then 'PFS' else 'CF' end as type \n",
    "from managed_assets.location.storepickuppointmaster_cdm),\n",
    "last as (select b.storeId stor_id,\n",
    "       c.week_end_dt,\n",
    "       b.type,\n",
    "       sum(a.count1quantity) unitpick,\n",
    "       sum(timestampdiff(second, a.begindatetime, a.enddatetime)) pickingseconds \n",
    "from merchandising.pos.employeeorderitemactivitytracker_cdm a left join location b on a.storeId = b.clean_store\n",
    "left join merchandising.pos.rdt_tm_look_sdm c on date(a.begindatetime) = c.the_date\n",
    "where a.storeId != 'GKK' and a.taskid = 'P' and a.Argument2Code not in ('R','repick') and c.week_end_dt >= '2023-01-07'\n",
    "group by all)\n",
    "select * from last\n",
    "union\n",
    "select * from gkk\n",
    "union\n",
    "select * from 2022_data)"
   ]
  },
  {
   "cell_type": "code",
   "execution_count": 0,
   "metadata": {
    "application/vnd.databricks.v1+cell": {
     "cellMetadata": {
      "byteLimit": 2048000,
      "implicitDf": true,
      "rowLimit": 10000
     },
     "inputWidgets": {},
     "nuid": "ec6bd602-a0a4-463a-910c-378707809ccd",
     "showTitle": false,
     "tableResultSettingsMap": {
      "0": {
       "dataGridStateBlob": null,
       "filterBlob": "{\"filterGroups\":[],\"syncTimestamp\":1743017809102}",
       "queryPlanFiltersBlob": null,
       "tableResultIndex": 0
      }
     },
     "title": ""
    }
   },
   "outputs": [],
   "source": [
    "%sql\n",
    "create or replace table `test-analytics`.custom_datamart.productivity_data_load as (\n",
    "select int(e.ahdz_per), \n",
    "       int(e.ahdz_week),\n",
    "       int(e.ahdz_qtr),\n",
    "       cast(left(e.ahdz_week,4) as int) as year,\n",
    "       f.banner, f.type as t2, f.open_closed, f.date_open, f.date_closed, \n",
    "        a.*,\n",
    "       d.unitpick, \n",
    "       d.pickingseconds\n",
    "from item_count a\n",
    "left join pickrate d on a.week_end_dt = d.week_end_dt and a.stor_id = d.stor_id and a.type = d.type\n",
    "left join (select distinct week_end_dt, ahdz_per, ahdz_week, ahdz_qtr from merchandising.pos.rdt_tm_look_sdm) e on a.week_end_dt = e.week_end_dt\n",
    "left join `test-analytics`.custom_datamart.cf_list_db_upload f on a.stor_id = f.store_id\n",
    ")"
   ]
  }
 ],
 "metadata": {
  "application/vnd.databricks.v1+notebook": {
   "computePreferences": null,
   "dashboards": [],
   "environmentMetadata": {
    "base_environment": "",
    "environment_version": "2"
   },
   "inputWidgetPreferences": null,
   "language": "python",
   "notebookMetadata": {
    "mostRecentlyExecutedCommandWithImplicitDF": {
     "commandId": 5083821195774769,
     "dataframes": [
      "_sqldf"
     ]
    },
    "pythonIndentUnit": 2
   },
   "notebookName": "Productivity Dashboard Load New Logic",
   "widgets": {}
  },
  "language_info": {
   "name": "python"
  }
 },
 "nbformat": 4,
 "nbformat_minor": 0
}
