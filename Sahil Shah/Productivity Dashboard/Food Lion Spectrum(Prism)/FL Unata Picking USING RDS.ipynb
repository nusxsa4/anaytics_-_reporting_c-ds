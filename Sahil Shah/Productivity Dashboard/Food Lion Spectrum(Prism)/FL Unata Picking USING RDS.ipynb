{
 "cells": [
  {
   "cell_type": "code",
   "execution_count": 0,
   "metadata": {
    "application/vnd.databricks.v1+cell": {
     "cellMetadata": {
      "byteLimit": 2048000,
      "implicitDf": true,
      "rowLimit": 10000
     },
     "inputWidgets": {},
     "nuid": "52d3da64-e0b1-43b4-8b6c-76b31fe59275",
     "showTitle": false,
     "tableResultSettingsMap": {},
     "title": ""
    }
   },
   "outputs": [],
   "source": [
    "%sql\n",
    "CREATE OR REPLACE TEMP VIEW fiscal_cal AS\n",
    "SELECT\n",
    "    DAY_DT,\n",
    "    DAY_OF_WK_NUM,\n",
    "    WK_END_DT,\n",
    "    CAST(FISC_YR_CD AS INT) AS FISC_YR_CD,\n",
    "    CAST(CONCAT(FISC_YR_CD, LPAD(FISC_WK_OF_YR_NUM, 2, '0')) AS INT) AS fiscal_week_num,\n",
    "    FISC_WK_OF_YR_NUM,\n",
    "    CAST(CONCAT(FISC_YR_CD, LPAD(FISC_PRD_OF_YR_NUM, 2, '0')) AS INT) AS fiscal_period_num,\n",
    "    FISC_PRD_OF_YR_NUM,\n",
    "    CAST(CONCAT(FISC_YR_CD, LPAD(FISC_QTR_OF_YR_NUM, 2, '0')) AS INT) AS fiscal_qtr_num,\n",
    "    FISC_QTR_OF_YR_NUM\n",
    "FROM main.uc_aa_datamart.fiscal_calendar;\n"
   ]
  },
  {
   "cell_type": "code",
   "execution_count": 0,
   "metadata": {
    "application/vnd.databricks.v1+cell": {
     "cellMetadata": {
      "byteLimit": 2048000,
      "rowLimit": 10000
     },
     "inputWidgets": {},
     "nuid": "e9a20eac-4deb-4248-9668-1d235c994843",
     "showTitle": false,
     "tableResultSettingsMap": {},
     "title": ""
    }
   },
   "outputs": [],
   "source": [
    "from pyspark.sql.functions import input_file_name, regexp_extract\n",
    "\n",
    "# Step 1: Define base path (up to FoodLion folder)\n",
    "base_path = \"abfss://fiona@rs05ue2pipadl03.dfs.core.windows.net/FIONA/RDS/Delhaize/InstacartSourceData/FoodLion\"\n",
    "\n",
    "\n",
    "# Step 2: Read matching files from all date folders\n",
    "df = (\n",
    "    spark.read\n",
    "    .option(\"header\", \"true\")\n",
    "    .option(\"inferSchema\", \"true\")\n",
    "    .csv(f\"{base_path}/*/rpt.8350.*.csv.gz\")\n",
    "    .dropDuplicates()\n",
    ")\n",
    "\n",
    "# Step 3: Extract the date from the folder structure\n",
    "# df_with_date = (\n",
    "#     df.withColumn(\"file_path\", input_file_name())\n",
    "#       .withColumn(\"dt\", regexp_extract(\"file_path\", r\"FoodLion/(\\d{4}-\\d{2}-\\d{2})/\", 1))\n",
    "# )\n",
    "\n",
    "\n",
    "# Step 4: Create temporary view\n",
    "df.createOrReplaceTempView(\"vw_rpt_8350_foodlion_source\")\n"
   ]
  },
  {
   "cell_type": "code",
   "execution_count": 0,
   "metadata": {
    "application/vnd.databricks.v1+cell": {
     "cellMetadata": {
      "byteLimit": 2048000,
      "implicitDf": true,
      "rowLimit": 10000
     },
     "inputWidgets": {},
     "nuid": "c65f1406-f5c4-4948-a7ff-11e2538d9322",
     "showTitle": false,
     "tableResultSettingsMap": {},
     "title": ""
    }
   },
   "outputs": [],
   "source": [
    "%sql\n",
    "select * from vw_rpt_8350_foodlion_source\n",
    "order by picking_started_date_time_pt desc"
   ]
  },
  {
   "cell_type": "code",
   "execution_count": 0,
   "metadata": {
    "application/vnd.databricks.v1+cell": {
     "cellMetadata": {
      "byteLimit": 2048000,
      "implicitDf": true,
      "rowLimit": 10000
     },
     "inputWidgets": {},
     "nuid": "99ac642c-39e8-4521-88b1-2e0da883da90",
     "showTitle": false,
     "tableResultSettingsMap": {},
     "title": ""
    }
   },
   "outputs": [],
   "source": [
    "%sql\n",
    "-- create or replace table `test-analytics`.custom_datamart.food_lion_pickrate_merged as (\n",
    "--        with prism as(select WK_END_DT,\n",
    "--        IFNULL(sum(units_pck),0) as unitspicked,\n",
    "--        IFNULL(sum(shft_secs),0) as pickingseconds\n",
    "-- from `test-analytics`.custom_datamart.pickrate_perf_food_lion\n",
    "-- group by 1),\n",
    "-- insta as (select b.wk_end_dt, IFNULL(sum(a.num_picked_items),0) as items,\n",
    "--        IFNULL(sum(a.picking_time_minutes * 60),0) as picking_seconds from (select * from `test-analytics`.custom_datamart.unata_history UNION SELECT * FROM vw_rpt_8350_foodlion_source) a left join fiscal_cal b on \n",
    "--  date(from_utc_timestamp(to_utc_timestamp(picking_started_date_time_pt, 'PST'), 'EST')) = b.DAY_DT\n",
    "--  group by all),\n",
    "--  main_date as (select distinct wk_end_dt from (select * from prism union select * from insta)),\n",
    "--  last (select a.*, (ifnull(b.pickingseconds,0)+ifnull(c.picking_seconds,0)) secs, \n",
    "--              (ifnull(b.unitspicked,0)+ifnull(c.items,0)) items from main_date a left join prism b on a.wk_end_dt = b.wk_end_dt\n",
    "--  left join insta c on a.wk_end_dt = c.wk_end_dt)\n",
    "-- SELECT \n",
    "-- b.fiscal_period_num as ahdz_per,\n",
    "--        b.fiscal_week_num as ahdz_week,\n",
    "--        b.fiscal_qtr_num as ahdz_qtr,\n",
    "--        left(b.fiscal_week_num,4) as year,\n",
    "-- 'Food Lion' as banner,\n",
    "--        'PFS' as t2,\n",
    "--        'Open' as open_closed,\n",
    "--        '' as date_open,\n",
    "--        '' as date_closed,\n",
    "--        b.WK_END_DT as week_end_dt,\n",
    "--        'GMF' as stor_id,\n",
    "--        'PFS' as type,\n",
    "--        0 as total_hrs_without_drivers,\n",
    "--        0 as total_hrs_with_drivers,\n",
    "--         IFNULL(sum(items),0) as unitspicked,\n",
    "--        IFNULL(sum(secs),0) as pickingseconds\n",
    "--        from last a left join fiscal_cal b on a.wk_end_dt = b.wk_end_dt\n",
    "--        GROUP BY 1,2,3,4,5,6,7,8,9,10,11,12,13,14\n",
    "-- )"
   ]
  },
  {
   "cell_type": "code",
   "execution_count": 0,
   "metadata": {
    "application/vnd.databricks.v1+cell": {
     "cellMetadata": {
      "byteLimit": 2048000,
      "implicitDf": true,
      "rowLimit": 10000
     },
     "inputWidgets": {},
     "nuid": "1ed723f2-9dd6-4adf-a8fa-4183d7c865ee",
     "showTitle": false,
     "tableResultSettingsMap": {},
     "title": ""
    }
   },
   "outputs": [],
   "source": [
    "%sql\n",
    "CREATE OR REPLACE TABLE `test-analytics`.custom_datamart.food_lion_pickrate_merged AS (\n",
    "\n",
    "  -- Summarize prism data\n",
    "  WITH prism AS (\n",
    "\n",
    "    with location as (select distinct StoreId, \n",
    "case when P3StoreId is null or P3StoreId = '' then StoreId else P3StoreId end as \n",
    "clean_store, \n",
    "case when StoreId like 'GM%' then 'PFS' else 'CF' end as type \n",
    "from managed_assets.location.storepickuppointmaster_cdm)\n",
    "select c.week_end_dt WK_END_DT,\n",
    "      --  b.type,\n",
    "       sum(a.cnt1_qy) unitspicked,\n",
    "       sum(timestampdiff(second, a.beg_dt_tm, a.end_dt_tm)) pickingseconds \n",
    "from merchandising.pos.emp_perf_fdln_sdm a left join location b on a.dc_id = b.clean_store\n",
    "left join merchandising.pos.rdt_tm_look_sdm c on date(a.beg_dt_tm) = c.the_date\n",
    "where b.storeId = 'GMF' and a.task_id = 'P' and a.arg2_cd not in ('R','repick')\n",
    "group by all\n",
    "  ),\n",
    "\n",
    "  -- Summarize insta data from combined sources\n",
    "  insta AS (\n",
    "    SELECT \n",
    "      b.WK_END_DT,\n",
    "      IFNULL(SUM(a.num_picked_items), 0) AS items,\n",
    "      IFNULL(SUM(a.picking_time_minutes * 60), 0) AS picking_seconds\n",
    "    FROM (\n",
    "      SELECT * FROM `test-analytics`.custom_datamart.unata_history\n",
    "      UNION\n",
    "      SELECT * FROM vw_rpt_8350_foodlion_source\n",
    "      union\n",
    "      select * from `test-analytics`.custom_datamart.combined_file_instacart\n",
    "    ) a\n",
    "    LEFT JOIN fiscal_cal b \n",
    "      ON DATE(FROM_UTC_TIMESTAMP(TO_UTC_TIMESTAMP(picking_started_date_time_pt, 'PST'), 'EST')) = b.DAY_DT\n",
    "    GROUP BY b.WK_END_DT\n",
    "  ),\n",
    "\n",
    "  -- Create master list of week_end_dt\n",
    "  main_date AS (\n",
    "    SELECT DISTINCT WK_END_DT FROM prism\n",
    "    UNION\n",
    "    SELECT DISTINCT WK_END_DT FROM insta\n",
    "  ),\n",
    "\n",
    "  -- Merge the data\n",
    "  merged_data AS (\n",
    "    SELECT \n",
    "      md.WK_END_DT,\n",
    "      sum(IFNULL(p.unitspicked, 0) + IFNULL(i.items, 0)) AS items,\n",
    "      sum(IFNULL(p.pickingseconds, 0) + IFNULL(i.picking_seconds, 0)) AS secs\n",
    "    FROM main_date md\n",
    "    LEFT JOIN prism p ON md.WK_END_DT = p.WK_END_DT\n",
    "    LEFT JOIN insta i ON md.WK_END_DT = i.WK_END_DT\n",
    "    group by 1)\n",
    "   SELECT \n",
    "    f.fiscal_period_num AS ahdz_per,\n",
    "    f.fiscal_week_num AS ahdz_week,\n",
    "    f.fiscal_qtr_num AS ahdz_qtr,\n",
    "    LEFT(f.fiscal_week_num, 4) AS year,\n",
    "    'Food Lion' AS banner,\n",
    "    'PFS' AS t2,\n",
    "    'Open' AS open_closed,\n",
    "    '' AS date_open,\n",
    "    '' AS date_closed,\n",
    "    f.WK_END_DT AS week_end_dt,\n",
    "    'GMF' AS stor_id,\n",
    "    'PFS' AS type,\n",
    "    0 AS total_hrs_without_drivers,\n",
    "    0 AS total_hrs_with_drivers,\n",
    "    IFNULL(SUM(m.items), 0) AS unitspicked,\n",
    "    IFNULL(SUM(m.secs), 0) AS pickingseconds\n",
    "  FROM merged_data m\n",
    "  LEFT JOIN (select distinct wk_end_dt, fiscal_period_num, fiscal_week_num, fiscal_qtr_num from fiscal_cal) f ON m.WK_END_DT = f.WK_END_DT\n",
    "  GROUP BY \n",
    "    all\n",
    ");"
   ]
  },
  {
   "cell_type": "code",
   "execution_count": 0,
   "metadata": {
    "application/vnd.databricks.v1+cell": {
     "cellMetadata": {
      "byteLimit": 2048000,
      "implicitDf": true,
      "rowLimit": 10000
     },
     "inputWidgets": {},
     "nuid": "2bf06bca-6a0e-4ee1-b769-330bbc2e1ceb",
     "showTitle": false,
     "tableResultSettingsMap": {},
     "title": ""
    }
   },
   "outputs": [],
   "source": [
    "%sql\n",
    "\n",
    "  -- Summarize prism data\n",
    "  WITH prism AS (\n",
    "\n",
    "    with location as (select distinct StoreId, \n",
    "case when P3StoreId is null or P3StoreId = '' then StoreId else P3StoreId end as \n",
    "clean_store, \n",
    "case when StoreId like 'GM%' then 'PFS' else 'CF' end as type \n",
    "from managed_assets.location.storepickuppointmaster_cdm)\n",
    "select c.week_end_dt WK_END_DT,\n",
    "      --  b.type,\n",
    "       sum(a.cnt1_qy) unitspicked,\n",
    "       sum(timestampdiff(second, a.beg_dt_tm, a.end_dt_tm)) pickingseconds \n",
    "from merchandising.pos.emp_perf_fdln_sdm a left join location b on a.dc_id = b.clean_store\n",
    "left join merchandising.pos.rdt_tm_look_sdm c on date(a.beg_dt_tm) = c.the_date\n",
    "where b.storeId = 'GMF' and a.task_id = 'P' and a.arg2_cd not in ('R','repick')\n",
    "group by all\n",
    "  ),\n",
    "\n",
    "  -- Summarize insta data from combined sources\n",
    "  insta AS (\n",
    "    SELECT \n",
    "      b.WK_END_DT,\n",
    "      IFNULL(SUM(a.num_picked_items), 0) AS items,\n",
    "      IFNULL(SUM(a.picking_time_minutes * 60), 0) AS picking_seconds\n",
    "    FROM (\n",
    "      SELECT * FROM `test-analytics`.custom_datamart.unata_history\n",
    "      UNION\n",
    "      SELECT * FROM vw_rpt_8350_foodlion_source\n",
    "    ) a\n",
    "    LEFT JOIN fiscal_cal b \n",
    "      ON DATE(FROM_UTC_TIMESTAMP(TO_UTC_TIMESTAMP(picking_started_date_time_pt, 'PST'), 'EST')) = b.DAY_DT\n",
    "    GROUP BY b.WK_END_DT\n",
    "  ),\n",
    "\n",
    "  -- Create master list of week_end_dt\n",
    "  main_date AS (\n",
    "    SELECT DISTINCT WK_END_DT FROM prism\n",
    "    UNION\n",
    "    SELECT DISTINCT WK_END_DT FROM insta\n",
    "  )\n",
    "\n",
    "  -- Merge the data\n",
    "    SELECT \n",
    "      md.WK_END_DT,\n",
    "      sum(IFNULL(p.unitspicked, 0)) prism_items,\n",
    "      sum(IFNULL(p.pickingseconds, 0)) as prism_secs,\n",
    "      sum(IFNULL(i.items, 0)) AS unata_items,\n",
    "      round(SUM(IFNULL(i.picking_seconds, 0)),0) AS unata_secs\n",
    "    FROM main_date md\n",
    "    LEFT JOIN prism p ON md.WK_END_DT = p.WK_END_DT\n",
    "    LEFT JOIN insta i ON md.WK_END_DT = i.WK_END_DT\n",
    "    group by 1"
   ]
  }
 ],
 "metadata": {
  "application/vnd.databricks.v1+notebook": {
   "computePreferences": null,
   "dashboards": [],
   "environmentMetadata": {
    "base_environment": "",
    "environment_version": "2"
   },
   "inputWidgetPreferences": null,
   "language": "python",
   "notebookMetadata": {
    "mostRecentlyExecutedCommandWithImplicitDF": {
     "commandId": 5293897241893805,
     "dataframes": [
      "_sqldf"
     ]
    },
    "pythonIndentUnit": 2
   },
   "notebookName": "FL Unata Picking USING RDS",
   "widgets": {}
  },
  "language_info": {
   "name": "python"
  }
 },
 "nbformat": 4,
 "nbformat_minor": 0
}
