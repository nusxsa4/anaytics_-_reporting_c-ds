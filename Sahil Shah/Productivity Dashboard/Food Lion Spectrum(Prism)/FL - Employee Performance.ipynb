{
 "cells": [
  {
   "cell_type": "code",
   "execution_count": 0,
   "metadata": {
    "application/vnd.databricks.v1+cell": {
     "cellMetadata": {
      "byteLimit": 2048000,
      "implicitDf": true,
      "rowLimit": 10000
     },
     "inputWidgets": {},
     "nuid": "0d2a37b2-a362-4b13-85df-cb2609b719a1",
     "showTitle": false,
     "tableResultSettingsMap": {},
     "title": ""
    }
   },
   "outputs": [],
   "source": [
    "%sql\n",
    "CREATE OR REPLACE TEMP VIEW fiscal_cal AS\n",
    "SELECT\n",
    "    DAY_DT,\n",
    "    DAY_OF_WK_NUM,\n",
    "    WK_END_DT,\n",
    "    CAST(FISC_YR_CD AS INT) AS FISC_YR_CD,\n",
    "    CAST(CONCAT(FISC_YR_CD, LPAD(FISC_WK_OF_YR_NUM, 2, '0')) AS INT) AS fiscal_week_num,\n",
    "    FISC_WK_OF_YR_NUM,\n",
    "    CAST(CONCAT(FISC_YR_CD, LPAD(FISC_PRD_OF_YR_NUM, 2, '0')) AS INT) AS fiscal_period_num,\n",
    "    FISC_PRD_OF_YR_NUM,\n",
    "    CAST(CONCAT(FISC_YR_CD, LPAD(FISC_QTR_OF_YR_NUM, 2, '0')) AS INT) AS fiscal_qtr_num,\n",
    "    FISC_QTR_OF_YR_NUM\n",
    "FROM main.uc_aa_datamart.fiscal_calendar;\n"
   ]
  },
  {
   "cell_type": "code",
   "execution_count": 0,
   "metadata": {
    "application/vnd.databricks.v1+cell": {
     "cellMetadata": {
      "byteLimit": 2048000,
      "implicitDf": true,
      "rowLimit": 10000
     },
     "inputWidgets": {},
     "nuid": "efc4aaec-d9ee-4eff-90ac-cad7a7774167",
     "showTitle": false,
     "tableResultSettingsMap": {},
     "title": ""
    }
   },
   "outputs": [],
   "source": [
    "%sql\n",
    "create or replace table `test-analytics`.custom_datamart.pickrate_perf_food_lion as \n",
    "(with emp_perf as (select *,\n",
    "       -- case when trim(arg2_cd) = 'M' then 'Multi'\n",
    "       case when trim(arg2_cd) in ('C','center') then 'CenterStore'\n",
    "       when trim(arg2_cd) in ('F','frozen') then 'Frozen'\n",
    "       -- when trim(arg2_cd) = 'R' then 'Repick'\n",
    "       when trim(arg2_cd) in ('P','perimeter') then 'Perimeter'\n",
    "       -- when trim(arg2_cd) = 'Y' then 'Unknown'\n",
    "       else 'Multi'\n",
    "       end as arg_desc\n",
    "       from (select distinct * from merchandising.pos.emp_perf_fdln_sdm)),\n",
    "emp_final as (select\n",
    "       trim(ee_id) ee_id, \n",
    "       arg_desc, \n",
    "       date(dlv_dt) date, \n",
    "       trim(dc_id) dc_id_a,\n",
    "       IFNULL(sum(cnt1_qy),0) as units_pick, \n",
    "       count(perf_id) picks,\n",
    "       sum(date_diff(second, beg_dt_tm,end_dt_tm)) actv_time\n",
    "from emp_perf where task_id = 'P'\n",
    "group by ee_id, arg_desc, date(dlv_dt), trim(dc_id)),\n",
    "actv as (select \n",
    "        trim(a.dc_id) dc_id, \n",
    "        trim(a.ee_id) ee_id, \n",
    "        date(a.actv_dt_tm) as date,\n",
    "       sum(case when trim(actv_cd) in ('P', 'S') then arg_tx else 0 end) as pick_items,\n",
    "       sum(case when trim(actv_cd) in ('O') then arg_tx else 0 end) as oos_items,\n",
    "       sum(case when trim(actv_cd) in ('U') then arg_tx else 0 end) as sub_items,\n",
    "       case when trim(arg2_cd) in ('C','center') then 'CenterStore'\n",
    "       when trim(arg2_cd) in ('F','frozen') then 'Frozen'\n",
    "       -- when trim(arg2_cd) = 'R' then 'Repick'\n",
    "       when trim(arg2_cd) in ('P','perimeter') then 'Perimeter'\n",
    "       -- when trim(arg2_cd) = 'Y' then 'Unknown'\n",
    "       else 'Multi'\n",
    "       end as arg_desc\n",
    "from (select distinct * from merchandising.pos.amt_actv_trk_fdln_sdm) a left join (select distinct * from merchandising.pos.emp_perf_fdln_sdm) b on a.perf_id = b.perf_id AND date(a.actv_dt_tm) = date(b.dlv_dt) and a.dc_id = b.dc_id and a.ee_id = b.ee_id\n",
    "group by a.ee_id, date(a.actv_dt_tm), trim(a.dc_id), 7),\n",
    "last as (select a.*, b.pick_items, b.oos_items, b.sub_items, ab.stor_ttl_tx, \n",
    "    ab.st_cd, \n",
    "    ab.zip_cd, \n",
    "     ab.ahld_stor_nbr_cd,\n",
    "     c.* from \n",
    "emp_final a left join actv b on a.dc_id_a = b.dc_id and a.arg_desc = b.arg_desc and a.ee_id = b.ee_id and a.`date` = b.`date`\n",
    " left outer JOIN managed_assets.location.cit_pup_ctl_sdm ab ON a.dc_id_a = ab.p3_stor_id\n",
    "               left outer join fiscal_cal c on a.date = c.DAY_DT)\n",
    "select date as dlv_dt,\n",
    "       stor_ttl_tx,\n",
    "       st_cd,\n",
    "       zip_cd,\n",
    "       ahld_stor_nbr_cd,\n",
    "       dc_id_a as dc_id,\n",
    "       ee_id,\n",
    "       arg_desc as pick_desc_tx,\n",
    "       sum(picks) as pick,\n",
    "       sum(units_pick) as units_pck,\n",
    "       sum(actv_time) as shft_secs,\n",
    "       DAY_DT,\n",
    "       DAY_OF_WK_NUM,\n",
    "       WK_END_DT,\n",
    "       FISC_YR_CD,\n",
    "       fiscal_week_num,\n",
    "       FISC_WK_OF_YR_NUM,\n",
    "       fiscal_period_num,\n",
    "       FISC_PRD_OF_YR_NUM,\n",
    "       fiscal_qtr_num,\n",
    "       FISC_QTR_OF_YR_NUM,\n",
    "       sum(pick_items) tot_pick,\n",
    "       sum(oos_items) oos_items,\n",
    "       sum(sub_items) sub_items\n",
    "       from last\n",
    "group by all)"
   ]
  },
  {
   "cell_type": "code",
   "execution_count": 0,
   "metadata": {
    "application/vnd.databricks.v1+cell": {
     "cellMetadata": {
      "byteLimit": 2048000,
      "implicitDf": true,
      "rowLimit": 10000
     },
     "inputWidgets": {},
     "nuid": "bc8082a1-8429-4238-bfbb-f4fd78deed92",
     "showTitle": false,
     "tableResultSettingsMap": {},
     "title": ""
    }
   },
   "outputs": [],
   "source": [
    "%sql\n",
    "create or replace table `test-analytics`.custom_datamart.pickrate_perf_food_lion_all as (\n",
    "with temp as (select date(actv_dt_tm) dt,\n",
    "       ee_id,\n",
    "       actv_cd,\n",
    "       ord_id,\n",
    "       dc_id,\n",
    "       min(actv_dt_tm) beg, max(actv_dt_tm) end,\n",
    "       sum(arg_tx) arg_tx,\n",
    "       date_diff(second, min(actv_dt_tm), max(actv_dt_tm)) seconds,\n",
    "       date_diff(minute, min(actv_dt_tm), max(actv_dt_tm)) hour from merchandising.pos.amt_actv_trk_fdln_sdm\n",
    "       group by date(actv_dt_tm),\n",
    "       actv_cd,\n",
    "       ee_id,\n",
    "       dc_id,\n",
    "       ord_id),\n",
    "last as (select dt,\n",
    "              ee_id,\n",
    "              dc_id,\n",
    "              count(distinct ord_id) ords,\n",
    "              IFNULL(sum(arg_tx) filter(where trim(actv_cd) = 'U'),0) as total_subs,\n",
    "              IFNULL(sum(arg_tx) filter(where trim(actv_cd) in ('P', 'S')), 0) as total_picks,\n",
    "              IFNULL(sum(arg_tx) filter(where trim(actv_cd) in ('O')),0) as total_oos,\n",
    "              sum(seconds) seconds\n",
    "              from temp\n",
    "              group by dt,\n",
    "              ee_id,\n",
    "              dc_id)\n",
    "select a.*,  b.stor_ttl_tx, \n",
    "    b.st_cd, \n",
    "    CAST(b.zip_cd as int), \n",
    "     CAST(b.ahld_stor_nbr_cd as int), c.* from last a left outer JOIN managed_assets.location.cit_pup_ctl_sdm b ON a.dc_id = b.p3_stor_id\n",
    "               left outer join fiscal_cal c on a.dt = c.DAY_DT\n",
    ")"
   ]
  },
  {
   "cell_type": "code",
   "execution_count": 0,
   "metadata": {
    "application/vnd.databricks.v1+cell": {
     "cellMetadata": {
      "byteLimit": 2048000,
      "rowLimit": 10000
     },
     "inputWidgets": {},
     "nuid": "45e056c8-56be-4592-8727-7f7d54240eea",
     "showTitle": false,
     "tableResultSettingsMap": {},
     "title": ""
    }
   },
   "outputs": [],
   "source": [
    "%run \"/Workspace/Users/nusxsa4@ad.peapod.com/Productivity Dashboard/Food Lion Spectrum(Prism)/FL Unata Picking USING RDS\""
   ]
  }
 ],
 "metadata": {
  "application/vnd.databricks.v1+notebook": {
   "computePreferences": null,
   "dashboards": [],
   "environmentMetadata": {
    "base_environment": "",
    "environment_version": "2"
   },
   "inputWidgetPreferences": null,
   "language": "python",
   "notebookMetadata": {
    "mostRecentlyExecutedCommandWithImplicitDF": {
     "commandId": 5384202316403453,
     "dataframes": [
      "_sqldf"
     ]
    },
    "pythonIndentUnit": 2
   },
   "notebookName": "FL - Employee Performance",
   "widgets": {}
  },
  "language_info": {
   "name": "python"
  }
 },
 "nbformat": 4,
 "nbformat_minor": 0
}
